{
 "cells": [
  {
   "cell_type": "code",
   "execution_count": 58,
   "metadata": {},
   "outputs": [],
   "source": [
    "import xarray as xr \n",
    "import netCDF4 as nc \n",
    "import numpy as np"
   ]
  },
  {
   "cell_type": "markdown",
   "metadata": {},
   "source": [
    "CERRA"
   ]
  },
  {
   "cell_type": "code",
   "execution_count": 59,
   "metadata": {},
   "outputs": [
    {
     "name": "stdout",
     "output_type": "stream",
     "text": [
      "<xarray.Dataset> Size: 2GB\n",
      "Dimensions:     (valid_time: 1460, y: 194, x: 256)\n",
      "Coordinates:\n",
      "  * valid_time  (valid_time) datetime64[ns] 12kB 1991-01-01 ... 1991-12-31T18...\n",
      "    longitude   (y, x) float64 397kB ...\n",
      "    latitude    (y, x) float64 397kB ...\n",
      "Dimensions without coordinates: y, x\n",
      "Data variables:\n",
      "    si10        (valid_time, y, x) float32 290MB ...\n",
      "    r2          (valid_time, y, x) float32 290MB ...\n",
      "    t2m         (valid_time, y, x) float32 290MB ...\n",
      "    lsm         (valid_time, y, x) float32 290MB ...\n",
      "    orog        (valid_time, y, x) float32 290MB ...\n",
      "    tcc         (valid_time, y, x) float32 290MB ...\n",
      "    tciwv       (valid_time, y, x) float32 290MB ...\n",
      "Attributes:\n",
      "    CDI:                     Climate Data Interface version 2.0.5 (https://mp...\n",
      "    Conventions:             CF-1.7\n",
      "    institution:             Norrkoping\n",
      "    GRIB_centre:             eswi\n",
      "    GRIB_centreDescription:  Norrkoping\n",
      "    history:                 Tue Dec 03 19:40:40 2024: cdo -L -O sellonlatbox...\n",
      "    CDO:                     Climate Data Operators version 2.0.5 (https://mp...\n"
     ]
    }
   ],
   "source": [
    "fn = 'data\\\\CERRA\\\\CERRA_IP_3h_1991.nc'\n",
    "ds = xr.open_dataset(fn)\n",
    "print(ds)"
   ]
  },
  {
   "cell_type": "code",
   "execution_count": 60,
   "metadata": {},
   "outputs": [
    {
     "name": "stdout",
     "output_type": "stream",
     "text": [
      "[[34.39971146 34.41076361 34.42178121 ... 36.0426825  36.04442445\n",
      "  36.04612818]\n",
      " [34.44621463 34.45727729 34.46830539 ... 36.09077231 36.09251597\n",
      "  36.09422137]\n",
      " [34.49272498 34.50379818 34.51483677 ... 36.1388709  36.14061627\n",
      "  36.14232335]\n",
      " ...\n",
      " [43.37786939 43.39113259 43.40435492 ... 45.35599972 45.35810416\n",
      "  45.36016243]\n",
      " [43.42518527 43.43846122 43.45169625 ... 45.4052588  45.40736535\n",
      "  45.4094257 ]\n",
      " [43.47250213 43.48579084 43.49903859 ... 45.45452105 45.45662972\n",
      "  45.45869213]]\n"
     ]
    }
   ],
   "source": [
    "val=ds.coords['latitude'].values\n",
    "print(val)"
   ]
  },
  {
   "cell_type": "code",
   "execution_count": 61,
   "metadata": {},
   "outputs": [
    {
     "name": "stdout",
     "output_type": "stream",
     "text": [
      "si10     10 metre wind speed     m s**-1\n",
      "r2     2 metre relative humidity     %\n",
      "t2m     2 metre temperature     K\n",
      "lsm     Land-sea mask     (0 - 1)\n",
      "orog     Orography     m\n",
      "tcc     Total Cloud Cover     %\n",
      "tciwv     Total column integrated water vapour     kg m**-2\n"
     ]
    }
   ],
   "source": [
    "for var in ds.data_vars:\n",
    "    print(var, '   ' ,ds.data_vars[var].attrs['long_name'], '   ', ds.data_vars[var].attrs['units'])"
   ]
  },
  {
   "cell_type": "markdown",
   "metadata": {},
   "source": [
    "WRF"
   ]
  },
  {
   "cell_type": "code",
   "execution_count": 62,
   "metadata": {},
   "outputs": [
    {
     "name": "stdout",
     "output_type": "stream",
     "text": [
      "<xarray.Dataset> Size: 595MB\n",
      "Dimensions:  (XTIME: 1460, south_north: 319, west_east: 319)\n",
      "Coordinates:\n",
      "  * XTIME    (XTIME) datetime64[ns] 12kB 1991-01-01 ... 1991-12-31T18:00:00\n",
      "    XLONG    (south_north, west_east) float32 407kB ...\n",
      "    XLAT     (south_north, west_east) float32 407kB ...\n",
      "Dimensions without coordinates: south_north, west_east\n",
      "Data variables:\n",
      "    W10      (XTIME, south_north, west_east) float32 594MB ...\n",
      "Attributes: (12/155)\n",
      "    CDI:                             Climate Data Interface version 2.0.5 (ht...\n",
      "    Conventions:                     CF-1.6\n",
      "    TITLE:                            OUTPUT FROM WRF V4.3.3 MODEL\n",
      "    START_DATE:                      1991-01-01_00:00:00\n",
      "    SIMULATION_START_DATE:           1990-01-01_00:00:00\n",
      "    WEST-EAST_GRID_DIMENSION:        320\n",
      "    ...                              ...\n",
      "    ISURBAN:                         13\n",
      "    ISOILWATER:                      14\n",
      "    HYBRID_OPT:                      2\n",
      "    ETAC:                            0.2\n",
      "    history:                         Sat Dec 28 19:02:49 2024: cdo -L -O -z z...\n",
      "    CDO:                             Climate Data Operators version 2.0.5 (ht...\n"
     ]
    }
   ],
   "source": [
    "fn = 'data\\\\WRF\\\\Evaluation\\\\windspeed_d01_1991_time.nc'\n",
    "ds = xr.open_dataset(fn)\n",
    "print(ds)"
   ]
  },
  {
   "cell_type": "code",
   "execution_count": 63,
   "metadata": {},
   "outputs": [
    {
     "name": "stdout",
     "output_type": "stream",
     "text": [
      "[[-12.190155  -12.138733  -12.087311  ...   4.141327    4.192749\n",
      "    4.244171 ]\n",
      " [-12.194672  -12.1432495 -12.091797  ...   4.1457825   4.197235\n",
      "    4.2486877]\n",
      " [-12.199219  -12.147736  -12.096252  ...   4.150238    4.201721\n",
      "    4.2532043]\n",
      " ...\n",
      " [-13.915924  -13.853851  -13.791779  ...   5.8457947   5.9078674\n",
      "    5.96994  ]\n",
      " [-13.922546  -13.860443  -13.798309  ...   5.8523254   5.9144287\n",
      "    5.976532 ]\n",
      " [-13.929169  -13.867004  -13.80484   ...   5.858856    5.9210205\n",
      "    5.9831543]]\n"
     ]
    }
   ],
   "source": [
    "vals=ds.coords['XLONG'].values\n",
    "print(vals)"
   ]
  },
  {
   "cell_type": "markdown",
   "metadata": {},
   "source": [
    "DEW YIELD MAPS"
   ]
  },
  {
   "cell_type": "code",
   "execution_count": 64,
   "metadata": {},
   "outputs": [
    {
     "name": "stdout",
     "output_type": "stream",
     "text": [
      "[34.39971146 34.44621463 34.49272498 34.53924249 34.58576713 34.63229887\n",
      " 34.67883768 34.72538353 34.77193641 34.81849627 34.86506309 34.91163685\n",
      " 34.95821751 35.00480505 35.05139944 35.09800065 35.14460865 35.19122342\n",
      " 35.23784492 35.28447313 35.33110802 35.37774956 35.42439772 35.47105247\n",
      " 35.51771379 35.56438164 35.611056   35.65773684 35.70442413 35.75111784\n",
      " 35.79781794 35.8445244  35.8912372  35.9379563  35.98468167 36.03141329\n",
      " 36.07815113 36.12489515 36.17164534 36.21840165 36.26516406 36.31193254\n",
      " 36.35870706 36.40548759 36.4522741  36.49906656 36.54586494 36.59266921\n",
      " 36.63947935 36.68629531 36.73311708 36.77994462 36.8267779  36.87361689\n",
      " 36.92046156 36.96731188 37.01416783 37.06102936 37.10789645 37.15476908\n",
      " 37.2016472  37.24853079 37.29541981 37.34231425 37.38921406 37.43611921\n",
      " 37.48302969 37.52994544 37.57686645 37.62379268 37.6707241  37.71766068\n",
      " 37.76460239 37.8115492  37.85850107 37.90545798 37.95241989 37.99938678\n",
      " 38.0463586  38.09333534 38.14031695 38.18730341 38.23429469 38.28129075\n",
      " 38.32829156 38.37529709 38.42230731 38.46932218 38.51634168 38.56336577\n",
      " 38.61039442 38.6574276  38.70446528 38.75150742 38.79855398 38.84560495\n",
      " 38.89266029 38.93971996 38.98678393 39.03385217 39.08092465 39.12800133\n",
      " 39.17508219 39.22216718 39.26925628 39.31634945 39.36344666 39.41054788\n",
      " 39.45765308 39.50476221 39.55187525 39.59899217 39.64611293 39.6932375\n",
      " 39.74036585 39.78749794 39.83463373 39.88177321 39.92891632 39.97606304\n",
      " 40.02321334 40.07036717 40.11752452 40.16468534 40.21184959 40.25901726\n",
      " 40.30618829 40.35336267 40.40054034 40.44772129 40.49490547 40.54209286\n",
      " 40.58928341 40.63647709 40.68367387 40.73087372 40.7780766  40.82528247\n",
      " 40.8724913  40.91970306 40.9669177  41.01413521 41.06135554 41.10857865\n",
      " 41.15580452 41.2030331  41.25026437 41.29749828 41.3447348  41.39197391\n",
      " 41.43921555 41.4864597  41.53370632 41.58095537 41.62820683 41.67546065\n",
      " 41.7227168  41.76997525 41.81723595 41.86449887 41.91176398 41.95903125\n",
      " 42.00630062 42.05357208 42.10084558 42.14812108 42.19539856 42.24267797\n",
      " 42.28995928 42.33724245 42.38452745 42.43181424 42.47910278 42.52639304\n",
      " 42.57368498 42.62097856 42.66827375 42.71557051 42.7628688  42.81016859\n",
      " 42.85746985 42.90477252 42.95207658 42.99938199 43.04668871 43.09399671\n",
      " 43.14130595 43.18861638 43.23592798 43.28324071 43.33055452 43.37786939\n",
      " 43.42518527 43.47250213]\n"
     ]
    }
   ],
   "source": [
    "fn= 'dewyield_results\\\\CERRA\\\\dew_yield_CERRA_1991.nc'\n",
    "ds = xr.open_dataset(fn)\n",
    "print(ds.coords['latitude'].values)"
   ]
  }
 ],
 "metadata": {
  "kernelspec": {
   "display_name": "Python 3",
   "language": "python",
   "name": "python3"
  },
  "language_info": {
   "codemirror_mode": {
    "name": "ipython",
    "version": 3
   },
   "file_extension": ".py",
   "mimetype": "text/x-python",
   "name": "python",
   "nbconvert_exporter": "python",
   "pygments_lexer": "ipython3",
   "version": "3.11.3"
  },
  "orig_nbformat": 4
 },
 "nbformat": 4,
 "nbformat_minor": 2
}
