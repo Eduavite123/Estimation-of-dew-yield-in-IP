{
 "cells": [
  {
   "cell_type": "code",
   "execution_count": 60,
   "metadata": {},
   "outputs": [],
   "source": [
    "import xarray as xr \n",
    "import netCDF4 as nc \n",
    "import numpy as np"
   ]
  },
  {
   "cell_type": "markdown",
   "metadata": {},
   "source": [
    "CERRA"
   ]
  },
  {
   "cell_type": "code",
   "execution_count": 61,
   "metadata": {},
   "outputs": [
    {
     "name": "stdout",
     "output_type": "stream",
     "text": [
      "<xarray.Dataset> Size: 2GB\n",
      "Dimensions:     (valid_time: 1460, y: 194, x: 256)\n",
      "Coordinates:\n",
      "  * valid_time  (valid_time) datetime64[ns] 12kB 1991-01-01 ... 1991-12-31T18...\n",
      "    longitude   (y, x) float64 397kB ...\n",
      "    latitude    (y, x) float64 397kB ...\n",
      "Dimensions without coordinates: y, x\n",
      "Data variables:\n",
      "    si10        (valid_time, y, x) float32 290MB ...\n",
      "    r2          (valid_time, y, x) float32 290MB ...\n",
      "    t2m         (valid_time, y, x) float32 290MB ...\n",
      "    lsm         (valid_time, y, x) float32 290MB ...\n",
      "    orog        (valid_time, y, x) float32 290MB ...\n",
      "    tcc         (valid_time, y, x) float32 290MB ...\n",
      "    tciwv       (valid_time, y, x) float32 290MB ...\n",
      "Attributes:\n",
      "    CDI:                     Climate Data Interface version 2.0.5 (https://mp...\n",
      "    Conventions:             CF-1.7\n",
      "    institution:             Norrkoping\n",
      "    GRIB_centre:             eswi\n",
      "    GRIB_centreDescription:  Norrkoping\n",
      "    history:                 Tue Dec 03 19:40:40 2024: cdo -L -O sellonlatbox...\n",
      "    CDO:                     Climate Data Operators version 2.0.5 (https://mp...\n"
     ]
    }
   ],
   "source": [
    "fn = 'data\\\\CERRA\\\\CERRA_IP_3h_1991.nc'\n",
    "ds = xr.open_dataset(fn)\n",
    "print(ds)"
   ]
  },
  {
   "cell_type": "code",
   "execution_count": 62,
   "metadata": {},
   "outputs": [
    {
     "name": "stdout",
     "output_type": "stream",
     "text": [
      "[[34.39971146 34.41076361 34.42178121 ... 36.0426825  36.04442445\n",
      "  36.04612818]\n",
      " [34.44621463 34.45727729 34.46830539 ... 36.09077231 36.09251597\n",
      "  36.09422137]\n",
      " [34.49272498 34.50379818 34.51483677 ... 36.1388709  36.14061627\n",
      "  36.14232335]\n",
      " ...\n",
      " [43.37786939 43.39113259 43.40435492 ... 45.35599972 45.35810416\n",
      "  45.36016243]\n",
      " [43.42518527 43.43846122 43.45169625 ... 45.4052588  45.40736535\n",
      "  45.4094257 ]\n",
      " [43.47250213 43.48579084 43.49903859 ... 45.45452105 45.45662972\n",
      "  45.45869213]]\n"
     ]
    }
   ],
   "source": [
    "val=ds.coords['latitude'].values\n",
    "print(val)"
   ]
  },
  {
   "cell_type": "code",
   "execution_count": 63,
   "metadata": {},
   "outputs": [
    {
     "name": "stdout",
     "output_type": "stream",
     "text": [
      "si10     10 metre wind speed     m s**-1\n",
      "r2     2 metre relative humidity     %\n",
      "t2m     2 metre temperature     K\n",
      "lsm     Land-sea mask     (0 - 1)\n",
      "orog     Orography     m\n",
      "tcc     Total Cloud Cover     %\n",
      "tciwv     Total column integrated water vapour     kg m**-2\n"
     ]
    }
   ],
   "source": [
    "for var in ds.data_vars:\n",
    "    print(var, '   ' ,ds.data_vars[var].attrs['long_name'], '   ', ds.data_vars[var].attrs['units'])"
   ]
  },
  {
   "cell_type": "markdown",
   "metadata": {},
   "source": [
    "WRF"
   ]
  },
  {
   "cell_type": "code",
   "execution_count": 64,
   "metadata": {},
   "outputs": [
    {
     "name": "stdout",
     "output_type": "stream",
     "text": [
      "<xarray.Dataset> Size: 595MB\n",
      "Dimensions:  (XTIME: 1460, south_north: 319, west_east: 319)\n",
      "Coordinates:\n",
      "  * XTIME    (XTIME) datetime64[ns] 12kB 1991-01-01 ... 1991-12-31T18:00:00\n",
      "    XLONG    (south_north, west_east) float32 407kB ...\n",
      "    XLAT     (south_north, west_east) float32 407kB ...\n",
      "Dimensions without coordinates: south_north, west_east\n",
      "Data variables:\n",
      "    W10      (XTIME, south_north, west_east) float32 594MB ...\n",
      "Attributes: (12/155)\n",
      "    CDI:                             Climate Data Interface version 2.0.5 (ht...\n",
      "    Conventions:                     CF-1.6\n",
      "    TITLE:                            OUTPUT FROM WRF V4.3.3 MODEL\n",
      "    START_DATE:                      1991-01-01_00:00:00\n",
      "    SIMULATION_START_DATE:           1990-01-01_00:00:00\n",
      "    WEST-EAST_GRID_DIMENSION:        320\n",
      "    ...                              ...\n",
      "    ISURBAN:                         13\n",
      "    ISOILWATER:                      14\n",
      "    HYBRID_OPT:                      2\n",
      "    ETAC:                            0.2\n",
      "    history:                         Sat Dec 28 19:02:49 2024: cdo -L -O -z z...\n",
      "    CDO:                             Climate Data Operators version 2.0.5 (ht...\n"
     ]
    }
   ],
   "source": [
    "fn = 'data\\\\WRF\\\\Evaluation\\\\windspeed_d01_1991_time.nc'\n",
    "ds = xr.open_dataset(fn)\n",
    "print(ds)"
   ]
  },
  {
   "cell_type": "code",
   "execution_count": 65,
   "metadata": {},
   "outputs": [
    {
     "name": "stdout",
     "output_type": "stream",
     "text": [
      "[[-12.190155  -12.138733  -12.087311  ...   4.141327    4.192749\n",
      "    4.244171 ]\n",
      " [-12.194672  -12.1432495 -12.091797  ...   4.1457825   4.197235\n",
      "    4.2486877]\n",
      " [-12.199219  -12.147736  -12.096252  ...   4.150238    4.201721\n",
      "    4.2532043]\n",
      " ...\n",
      " [-13.915924  -13.853851  -13.791779  ...   5.8457947   5.9078674\n",
      "    5.96994  ]\n",
      " [-13.922546  -13.860443  -13.798309  ...   5.8523254   5.9144287\n",
      "    5.976532 ]\n",
      " [-13.929169  -13.867004  -13.80484   ...   5.858856    5.9210205\n",
      "    5.9831543]]\n"
     ]
    }
   ],
   "source": [
    "vals=ds.coords['XLONG'].values\n",
    "print(vals)"
   ]
  },
  {
   "cell_type": "markdown",
   "metadata": {},
   "source": [
    "DEW YIELD MAPS"
   ]
  },
  {
   "cell_type": "code",
   "execution_count": 66,
   "metadata": {},
   "outputs": [
    {
     "name": "stdout",
     "output_type": "stream",
     "text": [
      "<xarray.Dataset> Size: 1GB\n",
      "Dimensions:    (time: 1460, latitude: 319, longitude: 319)\n",
      "Coordinates:\n",
      "    latitude   (latitude, longitude) float32 407kB ...\n",
      "    longitude  (latitude, longitude) float32 407kB ...\n",
      "  * time       (time) float64 12kB 0.0 6.0 12.0 ... 8.748e+03 8.754e+03\n",
      "Data variables:\n",
      "    dew_yield  (time, latitude, longitude) float64 1GB ...\n"
     ]
    }
   ],
   "source": [
    "fn= 'dewyield_results\\\\WRF\\\\dew_yield_WRF_1991.nc'\n",
    "ds = xr.open_dataset(fn)\n",
    "print(ds)"
   ]
  }
 ],
 "metadata": {
  "kernelspec": {
   "display_name": "Python 3",
   "language": "python",
   "name": "python3"
  },
  "language_info": {
   "codemirror_mode": {
    "name": "ipython",
    "version": 3
   },
   "file_extension": ".py",
   "mimetype": "text/x-python",
   "name": "python",
   "nbconvert_exporter": "python",
   "pygments_lexer": "ipython3",
   "version": "3.11.3"
  },
  "orig_nbformat": 4
 },
 "nbformat": 4,
 "nbformat_minor": 2
}
