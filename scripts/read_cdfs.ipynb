{
 "cells": [
  {
   "cell_type": "code",
   "execution_count": 2,
   "metadata": {},
   "outputs": [],
   "source": [
    "import xarray as xr \n",
    "import netCDF4 as nc \n",
    "import numpy as np"
   ]
  },
  {
   "cell_type": "markdown",
   "metadata": {},
   "source": [
    "CERRA"
   ]
  },
  {
   "cell_type": "code",
   "execution_count": 3,
   "metadata": {},
   "outputs": [
    {
     "name": "stdout",
     "output_type": "stream",
     "text": [
      "<xarray.Dataset> Size: 2GB\n",
      "Dimensions:     (valid_time: 1460, y: 194, x: 256)\n",
      "Coordinates:\n",
      "  * valid_time  (valid_time) datetime64[ns] 12kB 1991-01-01 ... 1991-12-31T18...\n",
      "    longitude   (y, x) float64 397kB ...\n",
      "    latitude    (y, x) float64 397kB ...\n",
      "Dimensions without coordinates: y, x\n",
      "Data variables:\n",
      "    si10        (valid_time, y, x) float32 290MB ...\n",
      "    r2          (valid_time, y, x) float32 290MB ...\n",
      "    t2m         (valid_time, y, x) float32 290MB ...\n",
      "    lsm         (valid_time, y, x) float32 290MB ...\n",
      "    orog        (valid_time, y, x) float32 290MB ...\n",
      "    tcc         (valid_time, y, x) float32 290MB ...\n",
      "    tciwv       (valid_time, y, x) float32 290MB ...\n",
      "Attributes:\n",
      "    CDI:                     Climate Data Interface version 2.0.5 (https://mp...\n",
      "    Conventions:             CF-1.7\n",
      "    institution:             Norrkoping\n",
      "    GRIB_centre:             eswi\n",
      "    GRIB_centreDescription:  Norrkoping\n",
      "    history:                 Tue Dec 03 19:40:40 2024: cdo -L -O sellonlatbox...\n",
      "    CDO:                     Climate Data Operators version 2.0.5 (https://mp...\n"
     ]
    }
   ],
   "source": [
    "fn = 'data\\\\CERRA\\\\CERRA_IP_3h_1991.nc'\n",
    "ds = xr.open_dataset(fn)\n",
    "print(ds)"
   ]
  },
  {
   "cell_type": "code",
   "execution_count": 5,
   "metadata": {},
   "outputs": [
    {
     "name": "stdout",
     "output_type": "stream",
     "text": [
      "si10     10 metre wind speed     m s**-1\n",
      "r2     2 metre relative humidity     %\n",
      "t2m     2 metre temperature     K\n",
      "lsm     Land-sea mask     (0 - 1)\n",
      "orog     Orography     m\n",
      "tcc     Total Cloud Cover     %\n",
      "tciwv     Total column integrated water vapour     kg m**-2\n"
     ]
    }
   ],
   "source": [
    "for var in ds.data_vars:\n",
    "    print(var, '   ' ,ds.data_vars[var].attrs['long_name'], '   ', ds.data_vars[var].attrs['units'])"
   ]
  },
  {
   "cell_type": "markdown",
   "metadata": {},
   "source": [
    "WRF"
   ]
  },
  {
   "cell_type": "code",
   "execution_count": 6,
   "metadata": {},
   "outputs": [
    {
     "name": "stdout",
     "output_type": "stream",
     "text": [
      "<xarray.Dataset> Size: 595MB\n",
      "Dimensions:  (XTIME: 1460, south_north: 319, west_east: 319)\n",
      "Coordinates:\n",
      "  * XTIME    (XTIME) datetime64[ns] 12kB 1991-01-01 ... 1991-12-31T18:00:00\n",
      "    XLONG    (south_north, west_east) float32 407kB ...\n",
      "    XLAT     (south_north, west_east) float32 407kB ...\n",
      "Dimensions without coordinates: south_north, west_east\n",
      "Data variables:\n",
      "    W10      (XTIME, south_north, west_east) float32 594MB ...\n",
      "Attributes: (12/155)\n",
      "    CDI:                             Climate Data Interface version 2.0.5 (ht...\n",
      "    Conventions:                     CF-1.6\n",
      "    TITLE:                            OUTPUT FROM WRF V4.3.3 MODEL\n",
      "    START_DATE:                      1991-01-01_00:00:00\n",
      "    SIMULATION_START_DATE:           1990-01-01_00:00:00\n",
      "    WEST-EAST_GRID_DIMENSION:        320\n",
      "    ...                              ...\n",
      "    ISURBAN:                         13\n",
      "    ISOILWATER:                      14\n",
      "    HYBRID_OPT:                      2\n",
      "    ETAC:                            0.2\n",
      "    history:                         Sat Dec 28 19:02:49 2024: cdo -L -O -z z...\n",
      "    CDO:                             Climate Data Operators version 2.0.5 (ht...\n"
     ]
    }
   ],
   "source": [
    "fn = 'data\\\\WRF\\\\Evaluation\\\\windspeed_d01_1991_time.nc'\n",
    "ds = xr.open_dataset(fn)\n",
    "print(ds)"
   ]
  }
 ],
 "metadata": {
  "kernelspec": {
   "display_name": "Python 3",
   "language": "python",
   "name": "python3"
  },
  "language_info": {
   "codemirror_mode": {
    "name": "ipython",
    "version": 3
   },
   "file_extension": ".py",
   "mimetype": "text/x-python",
   "name": "python",
   "nbconvert_exporter": "python",
   "pygments_lexer": "ipython3",
   "version": "3.11.3"
  },
  "orig_nbformat": 4
 },
 "nbformat": 4,
 "nbformat_minor": 2
}
